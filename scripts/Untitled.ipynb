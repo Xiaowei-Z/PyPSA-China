{
 "cells": [
  {
   "cell_type": "code",
   "execution_count": 1,
   "metadata": {},
   "outputs": [],
   "source": [
    "import pandas as pd"
   ]
  },
  {
   "cell_type": "code",
   "execution_count": 2,
   "metadata": {},
   "outputs": [],
   "source": [
    "import sys, os\n",
    "sys.path.append(os.getcwd() + '/scripts')"
   ]
  },
  {
   "cell_type": "raw",
   "metadata": {},
   "source": [
    "from prepare_network import prepare_costs"
   ]
  },
  {
   "cell_type": "code",
   "execution_count": 3,
   "metadata": {},
   "outputs": [],
   "source": [
    "costs = pd.read_csv(\"../data/costs/costs.csv\",index_col=list(range(3))).sort_index()\n",
    "\n",
    "#correct units to MW and EUR\n",
    "costs.loc[costs.unit.str.contains(\"/kW\"),\"value\"]*=1e3\n",
    "costs.loc[costs.unit.str.contains(\"USD\"),\"value\"]*=0.78\n",
    "\n",
    "costs.loc[costs.unit.str.contains(\"tCO2/MWhth\"),\"value\"]*=1.e-6\n",
    "costs.loc[costs.unit.str.contains(\"tCO2/MWhth\"),\"unit\"] = 'million tCO2/MWhth'\n"
   ]
  },
  {
   "cell_type": "code",
   "execution_count": 4,
   "metadata": {},
   "outputs": [
    {
     "data": {
      "text/html": [
       "<div>\n",
       "<style scoped>\n",
       "    .dataframe tbody tr th:only-of-type {\n",
       "        vertical-align: middle;\n",
       "    }\n",
       "\n",
       "    .dataframe tbody tr th {\n",
       "        vertical-align: top;\n",
       "    }\n",
       "\n",
       "    .dataframe thead th {\n",
       "        text-align: right;\n",
       "    }\n",
       "</style>\n",
       "<table border=\"1\" class=\"dataframe\">\n",
       "  <thead>\n",
       "    <tr style=\"text-align: right;\">\n",
       "      <th></th>\n",
       "      <th></th>\n",
       "      <th></th>\n",
       "      <th>value</th>\n",
       "      <th>unit</th>\n",
       "      <th>source</th>\n",
       "    </tr>\n",
       "    <tr>\n",
       "      <th>technology</th>\n",
       "      <th>year</th>\n",
       "      <th>parameter</th>\n",
       "      <th></th>\n",
       "      <th></th>\n",
       "      <th></th>\n",
       "    </tr>\n",
       "  </thead>\n",
       "  <tbody>\n",
       "    <tr>\n",
       "      <th>solar</th>\n",
       "      <th>2030</th>\n",
       "      <th>VOM</th>\n",
       "      <td>0.01</td>\n",
       "      <td>EUR/MWhel</td>\n",
       "      <td>RES costs made up to fix curtailment order</td>\n",
       "    </tr>\n",
       "    <tr>\n",
       "      <th rowspan=\"4\" valign=\"top\">solar-rooftop</th>\n",
       "      <th rowspan=\"4\" valign=\"top\">2030</th>\n",
       "      <th>FOM</th>\n",
       "      <td>2.00</td>\n",
       "      <td>%/year</td>\n",
       "      <td>ETIP PV</td>\n",
       "    </tr>\n",
       "    <tr>\n",
       "      <th>discount rate</th>\n",
       "      <td>0.04</td>\n",
       "      <td>per unit</td>\n",
       "      <td>standard for decentral</td>\n",
       "    </tr>\n",
       "    <tr>\n",
       "      <th>investment</th>\n",
       "      <td>725000.00</td>\n",
       "      <td>EUR/kWel</td>\n",
       "      <td>ETIP PV</td>\n",
       "    </tr>\n",
       "    <tr>\n",
       "      <th>lifetime</th>\n",
       "      <td>25.00</td>\n",
       "      <td>years</td>\n",
       "      <td>IEA2010</td>\n",
       "    </tr>\n",
       "    <tr>\n",
       "      <th rowspan=\"3\" valign=\"top\">solar-utility</th>\n",
       "      <th rowspan=\"3\" valign=\"top\">2030</th>\n",
       "      <th>FOM</th>\n",
       "      <td>3.00</td>\n",
       "      <td>%/year</td>\n",
       "      <td>ETIP PV</td>\n",
       "    </tr>\n",
       "    <tr>\n",
       "      <th>investment</th>\n",
       "      <td>425000.00</td>\n",
       "      <td>EUR/kWel</td>\n",
       "      <td>ETIP PV</td>\n",
       "    </tr>\n",
       "    <tr>\n",
       "      <th>lifetime</th>\n",
       "      <td>25.00</td>\n",
       "      <td>years</td>\n",
       "      <td>IEA2010</td>\n",
       "    </tr>\n",
       "  </tbody>\n",
       "</table>\n",
       "</div>"
      ],
      "text/plain": [
       "                                      value       unit  \\\n",
       "technology    year parameter                             \n",
       "solar         2030 VOM                 0.01  EUR/MWhel   \n",
       "solar-rooftop 2030 FOM                 2.00     %/year   \n",
       "                   discount rate       0.04   per unit   \n",
       "                   investment     725000.00   EUR/kWel   \n",
       "                   lifetime           25.00      years   \n",
       "solar-utility 2030 FOM                 3.00     %/year   \n",
       "                   investment     425000.00   EUR/kWel   \n",
       "                   lifetime           25.00      years   \n",
       "\n",
       "                                                                      source  \n",
       "technology    year parameter                                                  \n",
       "solar         2030 VOM            RES costs made up to fix curtailment order  \n",
       "solar-rooftop 2030 FOM                                               ETIP PV  \n",
       "                   discount rate                      standard for decentral  \n",
       "                   investment                                        ETIP PV  \n",
       "                   lifetime                                          IEA2010  \n",
       "solar-utility 2030 FOM                                               ETIP PV  \n",
       "                   investment                                        ETIP PV  \n",
       "                   lifetime                                          IEA2010  "
      ]
     },
     "execution_count": 4,
     "metadata": {},
     "output_type": "execute_result"
    }
   ],
   "source": [
    "costs.query('technology == [\"solar-utility\", \"solar-rooftop\", \"solar\"]')"
   ]
  },
  {
   "cell_type": "code",
   "execution_count": 5,
   "metadata": {},
   "outputs": [],
   "source": [
    "s = pd.read_hdf('../data/heating/solar_thermal-45.h5')"
   ]
  },
  {
   "cell_type": "code",
   "execution_count": null,
   "metadata": {},
   "outputs": [],
   "source": []
  }
 ],
 "metadata": {
  "kernelspec": {
   "display_name": "Python 3",
   "language": "python",
   "name": "python3"
  },
  "language_info": {
   "codemirror_mode": {
    "name": "ipython",
    "version": 3
   },
   "file_extension": ".py",
   "mimetype": "text/x-python",
   "name": "python",
   "nbconvert_exporter": "python",
   "pygments_lexer": "ipython3",
   "version": "3.6.7"
  }
 },
 "nbformat": 4,
 "nbformat_minor": 2
}
